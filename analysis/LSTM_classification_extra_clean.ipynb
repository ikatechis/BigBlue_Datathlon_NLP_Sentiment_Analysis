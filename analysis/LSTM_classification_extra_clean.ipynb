{
 "cells": [
  {
   "cell_type": "code",
   "execution_count": null,
   "id": "b399b4b9-c260-4185-b3a5-c473e64f0e65",
   "metadata": {},
   "outputs": [],
   "source": [
    "import pandas as pd\n",
    "import numpy as np\n",
    "import matplotlib.pyplot as plt\n",
    "import seaborn as sns\n",
    "\n",
    "import tensorflow as tf\n",
    "import keras\n",
    "from keras.metrics import categorical_accuracy\n",
    "from keras import layers\n",
    "import tensorflow_datasets as tfds\n",
    "\n",
    "from sklearn.model_selection import train_test_split\n",
    "from sklearn.metrics import ConfusionMatrixDisplay, classification_report, balanced_accuracy_score\n",
    "\n",
    "import datetime\n",
    "import os\n",
    "\n",
    "from preprocess_functions import preprocess_dataframe"
   ]
  },
  {
   "cell_type": "code",
   "execution_count": null,
   "id": "36b8fbfd-f390-4c20-a206-94bbbb3df2c6",
   "metadata": {},
   "outputs": [],
   "source": [
    "pd.options.display.max_rows = 100\n",
    "pd.options.display.max_colwidth = 300"
   ]
  },
  {
   "cell_type": "code",
   "execution_count": null,
   "id": "484a8015-64fc-4899-9f8a-e3c04df78c50",
   "metadata": {},
   "outputs": [],
   "source": [
    "df = pd.read_csv('../data/train_gr/train_clean.csv')"
   ]
  },
  {
   "cell_type": "code",
   "execution_count": null,
   "id": "b05b52da-e6fc-43bb-a7db-0ee3c491ba28",
   "metadata": {},
   "outputs": [],
   "source": [
    "# remove all non alphabet characters\n",
    "df['clean'] = (df.clean.str.replace(r'[^a-zA-Z]', ' ', regex=True)\n",
    "                .str.replace(r'\\s+', ' ', regex=True))"
   ]
  },
  {
   "cell_type": "code",
   "execution_count": null,
   "id": "35ad596e-a9d0-4553-89ff-952806cc0eb6",
   "metadata": {},
   "outputs": [],
   "source": []
  },
  {
   "cell_type": "code",
   "execution_count": null,
   "id": "be4770f9-7489-4f15-8df8-f18423c3552a",
   "metadata": {},
   "outputs": [],
   "source": [
    "encoder = tf.keras.layers.TextVectorization(max_tokens=10000)\n",
    "encoder.adapt(df.clean.values)"
   ]
  },
  {
   "cell_type": "code",
   "execution_count": null,
   "id": "3dfbef46-5080-4e52-a939-c4d578d221f2",
   "metadata": {},
   "outputs": [],
   "source": [
    "encoder.vocabulary_size()"
   ]
  },
  {
   "cell_type": "code",
   "execution_count": null,
   "id": "62d200ba-969f-4144-a7c4-60ca83591beb",
   "metadata": {},
   "outputs": [],
   "source": []
  },
  {
   "cell_type": "code",
   "execution_count": null,
   "id": "6667499e-6432-415f-9f0d-f9187b9d863c",
   "metadata": {},
   "outputs": [],
   "source": [
    "X = df.clean.values\n",
    "y = df.user_suggestion.values"
   ]
  },
  {
   "cell_type": "code",
   "execution_count": null,
   "id": "da516496-e5a6-4945-81ea-4263bdf07b6c",
   "metadata": {},
   "outputs": [],
   "source": [
    "\n",
    "X_train, X_test, y_train, y_test = train_test_split(X, y, test_size=0.10, stratify=y, random_state=42)"
   ]
  },
  {
   "cell_type": "code",
   "execution_count": null,
   "id": "914a9949-607b-4037-87ac-6db89db9fa93",
   "metadata": {},
   "outputs": [],
   "source": [
    "model = tf.keras.Sequential([\n",
    "    encoder,\n",
    "    tf.keras.layers.Embedding(\n",
    "        input_dim=encoder.vocabulary_size(),\n",
    "        output_dim=64,\n",
    "        # Use masking to handle the variable sequence lengths\n",
    "        mask_zero=True),\n",
    "    tf.keras.layers.Bidirectional(tf.keras.layers.LSTM(64)),\n",
    "    tf.keras.layers.Dense(64, activation='relu'),\n",
    "    tf.keras.layers.Dropout(0.4),\n",
    "    tf.keras.layers.Dense(64, activation='relu'),\n",
    "    tf.keras.layers.Dropout(0.4),\n",
    "    tf.keras.layers.Dense(1, activation='sigmoid')\n",
    "])\n",
    "\n",
    "model.compile(loss=tf.keras.losses.BinaryCrossentropy(from_logits=False),\n",
    "              optimizer=tf.keras.optimizers.Adam(1e-3),\n",
    "              metrics=['accuracy'])"
   ]
  },
  {
   "cell_type": "code",
   "execution_count": null,
   "id": "d6af077e-ac01-4df6-8eb5-b0915e569d5c",
   "metadata": {},
   "outputs": [],
   "source": [
    "callback_stop = tf.keras.callbacks.EarlyStopping(monitor='accuracy', patience=5, min_delta=0.005)\n",
    "\n",
    "learning_drop = tf.keras.callbacks.ReduceLROnPlateau(\n",
    "    monitor=\"val_accuracy\",\n",
    "    factor=0.90,\n",
    "    patience=2,\n",
    "    verbose=0,\n",
    "    mode=\"auto\",\n",
    "    min_delta=0.01,\n",
    "    cooldown=0,\n",
    "    min_lr=0,\n",
    ")\n"
   ]
  },
  {
   "cell_type": "code",
   "execution_count": null,
   "id": "be73e879-f41d-4ac3-b877-032384430aa1",
   "metadata": {},
   "outputs": [],
   "source": [
    "# weights = dict(1/df.outcome.value_counts())\n",
    "model.fit(X_train, y_train, validation_data=(X_test, y_test), epochs=10, \n",
    "          callbacks=[learning_drop, callback_stop])"
   ]
  },
  {
   "cell_type": "code",
   "execution_count": null,
   "id": "b6f3f44b-f2df-41ec-adbf-cd0a17202f5e",
   "metadata": {},
   "outputs": [],
   "source": [
    "y_pred = (model.predict(X_test) > 0.5)\n",
    "y_pred = np.squeeze(y_pred)"
   ]
  },
  {
   "cell_type": "code",
   "execution_count": null,
   "id": "1b4bb99a-c8dc-4f84-951f-597fc0a6ae3f",
   "metadata": {},
   "outputs": [],
   "source": [
    "ConfusionMatrixDisplay.from_predictions(y_test, y_pred)"
   ]
  },
  {
   "cell_type": "code",
   "execution_count": null,
   "id": "3ec412f4-5a87-4f28-9b33-43f888cbbe83",
   "metadata": {},
   "outputs": [],
   "source": []
  }
 ],
 "metadata": {
  "kernelspec": {
   "display_name": "Python 3 (ipykernel)",
   "language": "python",
   "name": "python3"
  },
  "language_info": {
   "codemirror_mode": {
    "name": "ipython",
    "version": 3
   },
   "file_extension": ".py",
   "mimetype": "text/x-python",
   "name": "python",
   "nbconvert_exporter": "python",
   "pygments_lexer": "ipython3",
   "version": "3.9.7"
  }
 },
 "nbformat": 4,
 "nbformat_minor": 5
}
