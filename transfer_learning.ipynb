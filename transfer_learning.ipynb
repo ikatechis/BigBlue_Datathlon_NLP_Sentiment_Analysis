{
 "cells": [
  {
   "cell_type": "code",
   "execution_count": 1,
   "id": "ce2503a5-e179-4a7c-93c4-26aba7c1f2fd",
   "metadata": {},
   "outputs": [],
   "source": [
    "import pandas as pd\n",
    "import numpy as np\n",
    "import matplotlib.pyplot as plt\n",
    "\n",
    "import tensorflow_hub as hub\n",
    "import keras\n",
    "import tensorflow as tf\n",
    "import keras\n",
    "from keras.metrics import categorical_accuracy\n",
    "from keras import layers\n",
    "import tensorflow_datasets as tfds\n",
    "\n",
    "from sklearn.model_selection import train_test_split\n",
    "from sklearn.metrics import ConfusionMatrixDisplay, classification_report, balanced_accuracy_score\n",
    "import datetime"
   ]
  },
  {
   "cell_type": "code",
   "execution_count": 2,
   "id": "fdccfbe2-7396-486d-a77b-db533a8ffaff",
   "metadata": {},
   "outputs": [],
   "source": [
    "df = pd.read_parquet('../data/train_pos.parquet')"
   ]
  },
  {
   "cell_type": "code",
   "execution_count": 3,
   "id": "2a238fba-f9d1-4f55-8df0-3e3e82b42e22",
   "metadata": {},
   "outputs": [],
   "source": [
    "encoder = tf.keras.layers.TextVectorization(max_tokens=20000)\n",
    "encoder.adapt(df.from_tokens.values)"
   ]
  },
  {
   "cell_type": "code",
   "execution_count": 4,
   "id": "12ad54d2-51af-479e-a8b6-f435059b1311",
   "metadata": {},
   "outputs": [
    {
     "data": {
      "text/plain": [
       "20000"
      ]
     },
     "execution_count": 4,
     "metadata": {},
     "output_type": "execute_result"
    }
   ],
   "source": [
    "encoder.vocabulary_size()"
   ]
  },
  {
   "cell_type": "code",
   "execution_count": 5,
   "id": "8ba9e245-836f-41b5-b124-d9485977afdb",
   "metadata": {},
   "outputs": [],
   "source": [
    "df = df[~(df.from_tokens == '')]"
   ]
  },
  {
   "cell_type": "code",
   "execution_count": 6,
   "id": "0f35d571-3fc8-45c3-80b6-eafb0dbd252c",
   "metadata": {},
   "outputs": [
    {
     "data": {
      "text/plain": [
       "(17473, 9)"
      ]
     },
     "execution_count": 6,
     "metadata": {},
     "output_type": "execute_result"
    }
   ],
   "source": [
    "df.shape"
   ]
  },
  {
   "cell_type": "code",
   "execution_count": 7,
   "id": "136a9cc9-5c83-4782-a8f8-1fd3f901ecb1",
   "metadata": {},
   "outputs": [],
   "source": [
    "X = df.clean.values\n",
    "y = df.user_suggestion.values"
   ]
  },
  {
   "cell_type": "code",
   "execution_count": 8,
   "id": "0bb42008-043b-441d-aca9-e88ca9db95c1",
   "metadata": {},
   "outputs": [],
   "source": [
    "X_train, X_test, y_train, y_test = train_test_split(X, y, test_size=0.10, stratify=y, random_state=42)"
   ]
  },
  {
   "cell_type": "code",
   "execution_count": null,
   "id": "e2a24221-f0c1-4f3c-a9a4-1102f0fce700",
   "metadata": {},
   "outputs": [],
   "source": []
  },
  {
   "cell_type": "code",
   "execution_count": null,
   "id": "5ff68c8a-797a-4ba0-b412-bc9d0aabad79",
   "metadata": {},
   "outputs": [],
   "source": []
  },
  {
   "cell_type": "code",
   "execution_count": 9,
   "id": "a0962a2a-b5ad-402d-b447-2b94a44344c5",
   "metadata": {},
   "outputs": [
    {
     "name": "stderr",
     "output_type": "stream",
     "text": [
      "WARNING:absl:Deleting lock file C:\\Users\\iason\\AppData\\Local\\Temp\\tfhub_modules\\74a841d6eb84e8d93d913d716fb5440d020cc291.lock due to inactivity.\n"
     ]
    }
   ],
   "source": [
    "model = keras.Sequential([\n",
    "    hub.KerasLayer(\"https://tfhub.dev/google/nnlm-en-dim50/2\", dtype=tf.string, input_shape=[],\n",
    "                  output_shape=[50]),\n",
    "    keras.layers.Dense(128, activation='relu'),\n",
    "    # tf.keras.layers.Dropout(0.4),\n",
    "    # keras.layers.Dense(64, activation='relu'),\n",
    "    keras.layers.Dense(1, activation='sigmoid'),\n",
    "    \n",
    "    \n",
    "])\n",
    "model.layers[0].trainable=True"
   ]
  },
  {
   "cell_type": "code",
   "execution_count": 10,
   "id": "b1afdc7c-8631-4f3a-ac38-4135835c75e1",
   "metadata": {},
   "outputs": [],
   "source": [
    "model.compile(loss=tf.keras.losses.BinaryCrossentropy(from_logits=False),\n",
    "              optimizer=tf.keras.optimizers.Adam(1e-4),\n",
    "              metrics=['accuracy'])"
   ]
  },
  {
   "cell_type": "code",
   "execution_count": 11,
   "id": "f5db4d1b-a629-4dd3-8077-5b384d5af454",
   "metadata": {},
   "outputs": [],
   "source": [
    "callback_stop = tf.keras.callbacks.EarlyStopping(monitor='accuracy', patience=5, min_delta=0.005)\n",
    "\n",
    "learning_drop = tf.keras.callbacks.ReduceLROnPlateau(\n",
    "    monitor=\"val_accuracy\",\n",
    "    factor=0.80,\n",
    "    patience=2,\n",
    "    verbose=0,\n",
    "    mode=\"auto\",\n",
    "    min_delta=0.01,\n",
    "    cooldown=0,\n",
    "    min_lr=0,\n",
    ")\n",
    "\n",
    "model_dir = \"models/\" + datetime.datetime.now().strftime(\"%Y%m%d-%H%M%S\") + '.h5'\n",
    "\n",
    "checkpoint_cb = tf.keras.callbacks.ModelCheckpoint(\n",
    "    model_dir, monitor='val_loss', verbose=0, save_best_only=True,\n",
    "    save_weights_only=False, mode='auto', save_freq='epoch',\n",
    "    options=None\n",
    ")\n"
   ]
  },
  {
   "cell_type": "code",
   "execution_count": 14,
   "id": "69d278fa-f731-4547-9506-aa8d2eb6d514",
   "metadata": {
    "tags": []
   },
   "outputs": [
    {
     "name": "stdout",
     "output_type": "stream",
     "text": [
      "Epoch 1/2\n",
      "246/246 [==============================] - 26s 106ms/step - loss: 0.1969 - accuracy: 0.9255 - val_loss: 0.3115 - val_accuracy: 0.8804 - lr: 6.4000e-05\n",
      "Epoch 2/2\n",
      "246/246 [==============================] - 35s 142ms/step - loss: 0.1896 - accuracy: 0.9293 - val_loss: 0.3104 - val_accuracy: 0.8810 - lr: 6.4000e-05\n"
     ]
    },
    {
     "data": {
      "text/plain": [
       "<keras.callbacks.History at 0x1c238fec2b0>"
      ]
     },
     "execution_count": 14,
     "metadata": {},
     "output_type": "execute_result"
    }
   ],
   "source": [
    "# weights = dict(1/df.outcome.value_counts())\n",
    "model.fit(X_train, y_train, validation_data=(X_test, y_test), epochs=2, \n",
    "          callbacks=[learning_drop, callback_stop, checkpoint_cb], batch_size=64)"
   ]
  },
  {
   "cell_type": "code",
   "execution_count": null,
   "id": "70f82c63-0081-430b-8f9b-5c0b1c26a34e",
   "metadata": {},
   "outputs": [],
   "source": []
  },
  {
   "cell_type": "code",
   "execution_count": 34,
   "id": "eb43daf6-64be-4e23-9133-955f6badacbf",
   "metadata": {},
   "outputs": [],
   "source": [
    "model_best = keras.models.load_model('./models/20220205-190208.h5', custom_objects={'KerasLayer': hub.KerasLayer})"
   ]
  },
  {
   "cell_type": "code",
   "execution_count": 35,
   "id": "4b49fe63-6251-4022-b8a3-aa5ab735be46",
   "metadata": {},
   "outputs": [],
   "source": [
    "y_pred = (model_best.predict(X_test) > 0.5)\n",
    "y_pred = np.squeeze(y_pred)"
   ]
  },
  {
   "cell_type": "code",
   "execution_count": 36,
   "id": "c9d6c7cd-380c-4e5f-ba79-843e9dd70050",
   "metadata": {},
   "outputs": [
    {
     "data": {
      "text/plain": [
       "<sklearn.metrics._plot.confusion_matrix.ConfusionMatrixDisplay at 0x21ea43d1610>"
      ]
     },
     "execution_count": 36,
     "metadata": {},
     "output_type": "execute_result"
    },
    {
     "data": {
      "image/png": "[encoded data removed]",
      "text/plain": [
       "<Figure size 576x576 with 2 Axes>"
      ]
     },
     "metadata": {},
     "output_type": "display_data"
    }
   ],
   "source": [
    "plt.style.use('dark_background')\n",
    "fig = plt.figure(figsize=(8, 8))\n",
    "ax = plt.gca()\n",
    "ConfusionMatrixDisplay.from_predictions(y_test, y_pred, ax=ax)"
   ]
  },
  {
   "cell_type": "code",
   "execution_count": 37,
   "id": "598f0d3a-6901-48ef-a1ef-db9a3a2180b8",
   "metadata": {},
   "outputs": [
    {
     "name": "stdout",
     "output_type": "stream",
     "text": [
      "              precision    recall  f1-score   support\n",
      "\n",
      "           0       0.86      0.87      0.86       753\n",
      "           1       0.90      0.89      0.89       995\n",
      "\n",
      "    accuracy                           0.88      1748\n",
      "   macro avg       0.88      0.88      0.88      1748\n",
      "weighted avg       0.88      0.88      0.88      1748\n",
      "\n"
     ]
    }
   ],
   "source": [
    "print(classification_report(y_test, y_pred))"
   ]
  },
  {
   "cell_type": "code",
   "execution_count": 38,
   "id": "a85e1b4b-aaee-4533-953d-8ad25f805be5",
   "metadata": {},
   "outputs": [],
   "source": [
    "fig.savefig('confusion.png', transparent=True)"
   ]
  },
  {
   "cell_type": "code",
   "execution_count": 39,
   "id": "65bcd843-ca2c-4cc2-bc93-baa0ffa3192e",
   "metadata": {},
   "outputs": [
    {
     "data": {
      "text/html": [
       "<div>\n",
       "<style scoped>\n",
       "    .dataframe tbody tr th:only-of-type {\n",
       "        vertical-align: middle;\n",
       "    }\n",
       "\n",
       "    .dataframe tbody tr th {\n",
       "        vertical-align: top;\n",
       "    }\n",
       "\n",
       "    .dataframe thead th {\n",
       "        text-align: right;\n",
       "    }\n",
       "</style>\n",
       "<table border=\"1\" class=\"dataframe\">\n",
       "  <thead>\n",
       "    <tr style=\"text-align: right;\">\n",
       "      <th></th>\n",
       "      <th>review_id</th>\n",
       "      <th>title</th>\n",
       "      <th>year</th>\n",
       "      <th>user_review</th>\n",
       "      <th>user_suggestion</th>\n",
       "      <th>clean</th>\n",
       "      <th>tokens</th>\n",
       "      <th>emoticon</th>\n",
       "      <th>from_tokens</th>\n",
       "    </tr>\n",
       "  </thead>\n",
       "  <tbody>\n",
       "    <tr>\n",
       "      <th>0</th>\n",
       "      <td>1</td>\n",
       "      <td>Spooky's Jump Scare Mansion</td>\n",
       "      <td>2016.0</td>\n",
       "      <td>I'm scared and hearing creepy voices.  So I'll...</td>\n",
       "      <td>1</td>\n",
       "      <td>i m scared and hearing creepy voices so i ll p...</td>\n",
       "      <td>[scare, hear, creepi, voic, paus, moment, revi...</td>\n",
       "      <td>[Surprise]</td>\n",
       "      <td>scare hear creepi voic paus moment review hear...</td>\n",
       "    </tr>\n",
       "    <tr>\n",
       "      <th>1</th>\n",
       "      <td>2</td>\n",
       "      <td>Spooky's Jump Scare Mansion</td>\n",
       "      <td>2016.0</td>\n",
       "      <td>Best game, more better than Sam Pepper's YouTu...</td>\n",
       "      <td>1</td>\n",
       "      <td>best game more better than sam pepper s youtub...</td>\n",
       "      <td>[best, game, better, sam, pepper, youtub, acco...</td>\n",
       "      <td>[Skeptical, annoyed, undecided, uneasy or hesi...</td>\n",
       "      <td>best game better sam pepper youtub account pla...</td>\n",
       "    </tr>\n",
       "    <tr>\n",
       "      <th>2</th>\n",
       "      <td>3</td>\n",
       "      <td>Spooky's Jump Scare Mansion</td>\n",
       "      <td>2016.0</td>\n",
       "      <td>A littly iffy on the controls, but once you kn...</td>\n",
       "      <td>1</td>\n",
       "      <td>a littly iffy on the controls but once you kno...</td>\n",
       "      <td>[litt, iffi, control, easi, master, floor, due...</td>\n",
       "      <td>[]</td>\n",
       "      <td>litt iffi control easi master floor due certai...</td>\n",
       "    </tr>\n",
       "    <tr>\n",
       "      <th>3</th>\n",
       "      <td>4</td>\n",
       "      <td>Spooky's Jump Scare Mansion</td>\n",
       "      <td>2015.0</td>\n",
       "      <td>Great game, fun and colorful and all that.A si...</td>\n",
       "      <td>1</td>\n",
       "      <td>great game fun and colorful and all that a sid...</td>\n",
       "      <td>[great, game, fun, color, side, note, get, win...</td>\n",
       "      <td>[]</td>\n",
       "      <td>great game fun color side note get window mode...</td>\n",
       "    </tr>\n",
       "    <tr>\n",
       "      <th>4</th>\n",
       "      <td>5</td>\n",
       "      <td>Spooky's Jump Scare Mansion</td>\n",
       "      <td>2015.0</td>\n",
       "      <td>Not many games have the cute tag right next to...</td>\n",
       "      <td>1</td>\n",
       "      <td>not many games have the cute tag right next to...</td>\n",
       "      <td>[mani, game, cute, tag, right, next, horror, t...</td>\n",
       "      <td>[]</td>\n",
       "      <td>mani game cute tag right next horror tag steam...</td>\n",
       "    </tr>\n",
       "    <tr>\n",
       "      <th>...</th>\n",
       "      <td>...</td>\n",
       "      <td>...</td>\n",
       "      <td>...</td>\n",
       "      <td>...</td>\n",
       "      <td>...</td>\n",
       "      <td>...</td>\n",
       "      <td>...</td>\n",
       "      <td>...</td>\n",
       "      <td>...</td>\n",
       "    </tr>\n",
       "    <tr>\n",
       "      <th>17489</th>\n",
       "      <td>25535</td>\n",
       "      <td>EverQuest II</td>\n",
       "      <td>2012.0</td>\n",
       "      <td>Arguably the single greatest mmorp that exists...</td>\n",
       "      <td>1</td>\n",
       "      <td>arguably the single greatest mmorp that exists...</td>\n",
       "      <td>[arguabl, singl, greatest, mmorp, exist, today...</td>\n",
       "      <td>[:heart_suit:, Wink or smirk]</td>\n",
       "      <td>arguabl singl greatest mmorp exist today free ...</td>\n",
       "    </tr>\n",
       "    <tr>\n",
       "      <th>17490</th>\n",
       "      <td>25536</td>\n",
       "      <td>EverQuest II</td>\n",
       "      <td>2017.0</td>\n",
       "      <td>An older game, to be sure, but has its own cha...</td>\n",
       "      <td>1</td>\n",
       "      <td>an older game to be sure but has its own charm...</td>\n",
       "      <td>[older, game, sure, charm, special, place, hea...</td>\n",
       "      <td>[]</td>\n",
       "      <td>older game sure charm special place heart play...</td>\n",
       "    </tr>\n",
       "    <tr>\n",
       "      <th>17491</th>\n",
       "      <td>25537</td>\n",
       "      <td>EverQuest II</td>\n",
       "      <td>2011.0</td>\n",
       "      <td>When I frist started playing Everquest 2 it wa...</td>\n",
       "      <td>1</td>\n",
       "      <td>when i frist started playing everquest it was ...</td>\n",
       "      <td>[frist, start, play, everquest, amaz, still, g...</td>\n",
       "      <td>[]</td>\n",
       "      <td>frist start play everquest amaz still great pl...</td>\n",
       "    </tr>\n",
       "    <tr>\n",
       "      <th>17492</th>\n",
       "      <td>25538</td>\n",
       "      <td>EverQuest II</td>\n",
       "      <td>NaN</td>\n",
       "      <td>cool game. THe only thing that REALLY PISSES M...</td>\n",
       "      <td>1</td>\n",
       "      <td>cool game the only thing that really pisses me...</td>\n",
       "      <td>[cool, game, thing, realli, ridabl, transport,...</td>\n",
       "      <td>[]</td>\n",
       "      <td>cool game thing realli ridabl transport scenic...</td>\n",
       "    </tr>\n",
       "    <tr>\n",
       "      <th>17493</th>\n",
       "      <td>25539</td>\n",
       "      <td>EverQuest II</td>\n",
       "      <td>NaN</td>\n",
       "      <td>this game since I was a little kid, always hav...</td>\n",
       "      <td>1</td>\n",
       "      <td>this game since i was a little kid always have...</td>\n",
       "      <td>[game, sinc, littl, alway, sinc, still, first,...</td>\n",
       "      <td>[Happy face or smiley]</td>\n",
       "      <td>game sinc littl alway sinc still first ever na...</td>\n",
       "    </tr>\n",
       "  </tbody>\n",
       "</table>\n",
       "<p>17473 rows × 9 columns</p>\n",
       "</div>"
      ],
      "text/plain": [
       "       review_id                        title    year  \\\n",
       "0              1  Spooky's Jump Scare Mansion  2016.0   \n",
       "1              2  Spooky's Jump Scare Mansion  2016.0   \n",
       "2              3  Spooky's Jump Scare Mansion  2016.0   \n",
       "3              4  Spooky's Jump Scare Mansion  2015.0   \n",
       "4              5  Spooky's Jump Scare Mansion  2015.0   \n",
       "...          ...                          ...     ...   \n",
       "17489      25535                 EverQuest II  2012.0   \n",
       "17490      25536                 EverQuest II  2017.0   \n",
       "17491      25537                 EverQuest II  2011.0   \n",
       "17492      25538                 EverQuest II     NaN   \n",
       "17493      25539                 EverQuest II     NaN   \n",
       "\n",
       "                                             user_review  user_suggestion  \\\n",
       "0      I'm scared and hearing creepy voices.  So I'll...                1   \n",
       "1      Best game, more better than Sam Pepper's YouTu...                1   \n",
       "2      A littly iffy on the controls, but once you kn...                1   \n",
       "3      Great game, fun and colorful and all that.A si...                1   \n",
       "4      Not many games have the cute tag right next to...                1   \n",
       "...                                                  ...              ...   \n",
       "17489  Arguably the single greatest mmorp that exists...                1   \n",
       "17490  An older game, to be sure, but has its own cha...                1   \n",
       "17491  When I frist started playing Everquest 2 it wa...                1   \n",
       "17492  cool game. THe only thing that REALLY PISSES M...                1   \n",
       "17493  this game since I was a little kid, always hav...                1   \n",
       "\n",
       "                                                   clean  \\\n",
       "0      i m scared and hearing creepy voices so i ll p...   \n",
       "1      best game more better than sam pepper s youtub...   \n",
       "2      a littly iffy on the controls but once you kno...   \n",
       "3      great game fun and colorful and all that a sid...   \n",
       "4      not many games have the cute tag right next to...   \n",
       "...                                                  ...   \n",
       "17489  arguably the single greatest mmorp that exists...   \n",
       "17490  an older game to be sure but has its own charm...   \n",
       "17491  when i frist started playing everquest it was ...   \n",
       "17492  cool game the only thing that really pisses me...   \n",
       "17493  this game since i was a little kid always have...   \n",
       "\n",
       "                                                  tokens  \\\n",
       "0      [scare, hear, creepi, voic, paus, moment, revi...   \n",
       "1      [best, game, better, sam, pepper, youtub, acco...   \n",
       "2      [litt, iffi, control, easi, master, floor, due...   \n",
       "3      [great, game, fun, color, side, note, get, win...   \n",
       "4      [mani, game, cute, tag, right, next, horror, t...   \n",
       "...                                                  ...   \n",
       "17489  [arguabl, singl, greatest, mmorp, exist, today...   \n",
       "17490  [older, game, sure, charm, special, place, hea...   \n",
       "17491  [frist, start, play, everquest, amaz, still, g...   \n",
       "17492  [cool, game, thing, realli, ridabl, transport,...   \n",
       "17493  [game, sinc, littl, alway, sinc, still, first,...   \n",
       "\n",
       "                                                emoticon  \\\n",
       "0                                             [Surprise]   \n",
       "1      [Skeptical, annoyed, undecided, uneasy or hesi...   \n",
       "2                                                     []   \n",
       "3                                                     []   \n",
       "4                                                     []   \n",
       "...                                                  ...   \n",
       "17489                      [:heart_suit:, Wink or smirk]   \n",
       "17490                                                 []   \n",
       "17491                                                 []   \n",
       "17492                                                 []   \n",
       "17493                             [Happy face or smiley]   \n",
       "\n",
       "                                             from_tokens  \n",
       "0      scare hear creepi voic paus moment review hear...  \n",
       "1      best game better sam pepper youtub account pla...  \n",
       "2      litt iffi control easi master floor due certai...  \n",
       "3      great game fun color side note get window mode...  \n",
       "4      mani game cute tag right next horror tag steam...  \n",
       "...                                                  ...  \n",
       "17489  arguabl singl greatest mmorp exist today free ...  \n",
       "17490  older game sure charm special place heart play...  \n",
       "17491  frist start play everquest amaz still great pl...  \n",
       "17492  cool game thing realli ridabl transport scenic...  \n",
       "17493  game sinc littl alway sinc still first ever na...  \n",
       "\n",
       "[17473 rows x 9 columns]"
      ]
     },
     "execution_count": 39,
     "metadata": {},
     "output_type": "execute_result"
    }
   ],
   "source": [
    "df"
   ]
  },
  {
   "cell_type": "code",
   "execution_count": null,
   "id": "d4f3f5d7-8598-43c6-bb79-72d85188b605",
   "metadata": {},
   "outputs": [],
   "source": []
  }
 ],
 "metadata": {
  "kernelspec": {
   "display_name": "Python 3 (ipykernel)",
   "language": "python",
   "name": "python3"
  },
  "language_info": {
   "codemirror_mode": {
    "name": "ipython",
    "version": 3
   },
   "file_extension": ".py",
   "mimetype": "text/x-python",
   "name": "python",
   "nbconvert_exporter": "python",
   "pygments_lexer": "ipython3",
   "version": "3.9.7"
  }
 },
 "nbformat": 4,
 "nbformat_minor": 5
}
