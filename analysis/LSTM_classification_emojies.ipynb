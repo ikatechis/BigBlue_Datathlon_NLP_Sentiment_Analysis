{
 "cells": [
  {
   "cell_type": "code",
   "execution_count": 1,
   "id": "b399b4b9-c260-4185-b3a5-c473e64f0e65",
   "metadata": {},
   "outputs": [
    {
     "name": "stderr",
     "output_type": "stream",
     "text": [
      "[nltk_data] Downloading package stopwords to\n",
      "[nltk_data]     C:\\Users\\iason\\AppData\\Roaming\\nltk_data...\n",
      "[nltk_data]   Package stopwords is already up-to-date!\n",
      "[nltk_data] Downloading package punkt to\n",
      "[nltk_data]     C:\\Users\\iason\\AppData\\Roaming\\nltk_data...\n",
      "[nltk_data]   Package punkt is already up-to-date!\n",
      "[nltk_data] Downloading package omw-1.4 to\n",
      "[nltk_data]     C:\\Users\\iason\\AppData\\Roaming\\nltk_data...\n",
      "[nltk_data]   Package omw-1.4 is already up-to-date!\n",
      "[nltk_data] Downloading package wordnet to\n",
      "[nltk_data]     C:\\Users\\iason\\AppData\\Roaming\\nltk_data...\n",
      "[nltk_data]   Package wordnet is already up-to-date!\n",
      "[nltk_data] Downloading package averaged_perceptron_tagger to\n",
      "[nltk_data]     C:\\Users\\iason\\AppData\\Roaming\\nltk_data...\n",
      "[nltk_data]   Package averaged_perceptron_tagger is already up-to-\n",
      "[nltk_data]       date!\n",
      "[nltk_data] Downloading package maxent_ne_chunker to\n",
      "[nltk_data]     C:\\Users\\iason\\AppData\\Roaming\\nltk_data...\n",
      "[nltk_data]   Package maxent_ne_chunker is already up-to-date!\n",
      "[nltk_data] Downloading package words to\n",
      "[nltk_data]     C:\\Users\\iason\\AppData\\Roaming\\nltk_data...\n",
      "[nltk_data]   Package words is already up-to-date!\n"
     ]
    }
   ],
   "source": [
    "import pandas as pd\n",
    "import numpy as np\n",
    "import matplotlib.pyplot as plt\n",
    "import seaborn as sns\n",
    "\n",
    "import tensorflow as tf\n",
    "import keras\n",
    "from keras.metrics import categorical_accuracy\n",
    "from keras import layers\n",
    "import tensorflow_datasets as tfds\n",
    "\n",
    "from sklearn.model_selection import train_test_split\n",
    "from sklearn.metrics import ConfusionMatrixDisplay, classification_report, balanced_accuracy_score\n",
    "\n",
    "import datetime\n",
    "import os\n",
    "\n",
    "from preprocess_functions import preprocess_dataframe\n",
    "import nltk\n",
    "from tqdm.notebook import tqdm\n",
    "tqdm.pandas()"
   ]
  },
  {
   "cell_type": "code",
   "execution_count": null,
   "id": "36b8fbfd-f390-4c20-a206-94bbbb3df2c6",
   "metadata": {},
   "outputs": [],
   "source": [
    "pd.options.display.max_rows = 100\n",
    "pd.options.display.max_colwidth = 300"
   ]
  },
  {
   "cell_type": "code",
   "execution_count": null,
   "id": "484a8015-64fc-4899-9f8a-e3c04df78c50",
   "metadata": {},
   "outputs": [],
   "source": [
    "# df = preprocess_dataframe('../data/train_gr/train.csv')"
   ]
  },
  {
   "cell_type": "code",
   "execution_count": null,
   "id": "b05b52da-e6fc-43bb-a7db-0ee3c491ba28",
   "metadata": {},
   "outputs": [],
   "source": [
    "# remove all non alphabet characters\n",
    "# df['clean'] = (df.clean.str.replace(r'[^a-zA-Z]', ' ', regex=True)\n",
    "#                 .str.replace(r'\\s+', ' ', regex=True))"
   ]
  },
  {
   "cell_type": "code",
   "execution_count": null,
   "id": "35ad596e-a9d0-4553-89ff-952806cc0eb6",
   "metadata": {},
   "outputs": [],
   "source": [
    "# df['tokens'] = df.tokens.apply(eval)"
   ]
  },
  {
   "cell_type": "code",
   "execution_count": null,
   "id": "bc42e012-35f3-47b7-bfdf-ab4be15e9f93",
   "metadata": {},
   "outputs": [],
   "source": [
    "# pos_tagged = df.tokens.apply(nltk.pos_tag)"
   ]
  },
  {
   "cell_type": "code",
   "execution_count": null,
   "id": "0f739c3e-7cc5-4101-bd26-12db6d47d335",
   "metadata": {},
   "outputs": [],
   "source": [
    "# keep only adjectives, nouns and adverbs\n",
    "# pos = pos_tagged.apply(lambda tags: [tag[0] for tag in tags if tag[1].startswith(('JJ', 'NN', 'RB'))])\n"
   ]
  },
  {
   "cell_type": "code",
   "execution_count": null,
   "id": "9c9a30be-b3b9-40a6-920e-6c16d5ca6be5",
   "metadata": {},
   "outputs": [],
   "source": [
    "# df['tokens'] = pos"
   ]
  },
  {
   "cell_type": "code",
   "execution_count": null,
   "id": "dd0dc0ee-6678-4d3e-8f9f-af58fd60e489",
   "metadata": {},
   "outputs": [],
   "source": [
    "# df['from_tokens'] = df.tokens + df.emoticon"
   ]
  },
  {
   "cell_type": "code",
   "execution_count": null,
   "id": "87a10160-1d1a-46d7-90d4-cc305eb47311",
   "metadata": {},
   "outputs": [],
   "source": [
    "# df['from_tokens'] = df.from_tokens.apply(lambda x: ' '.join(x))"
   ]
  },
  {
   "cell_type": "code",
   "execution_count": null,
   "id": "3e002f0d-1435-46c9-8234-490227bc5339",
   "metadata": {},
   "outputs": [],
   "source": [
    "# df['from_tokens'] = (df.from_tokens.str.replace(r'[^a-zA-Z]', ' ', regex=True)\n",
    "#                 .str.replace(r'\\s+', ' ', regex=True))"
   ]
  },
  {
   "cell_type": "code",
   "execution_count": null,
   "id": "0a33b3bc-56f8-49cf-8025-fcefca5e416d",
   "metadata": {},
   "outputs": [],
   "source": [
    "# df.to_parquet('../data/train_pos.parquet')"
   ]
  },
  {
   "cell_type": "code",
   "execution_count": null,
   "id": "dbf6edc6-128b-4d6f-b5d6-a3961db0207f",
   "metadata": {},
   "outputs": [],
   "source": [
    "df = pd.read_parquet('../data/train_pos.parquet')"
   ]
  },
  {
   "cell_type": "code",
   "execution_count": null,
   "id": "be4770f9-7489-4f15-8df8-f18423c3552a",
   "metadata": {},
   "outputs": [],
   "source": [
    "encoder = tf.keras.layers.TextVectorization(max_tokens=20000)\n",
    "encoder.adapt(df.from_tokens.values)"
   ]
  },
  {
   "cell_type": "code",
   "execution_count": null,
   "id": "3dfbef46-5080-4e52-a939-c4d578d221f2",
   "metadata": {},
   "outputs": [],
   "source": [
    "encoder.vocabulary_size()"
   ]
  },
  {
   "cell_type": "code",
   "execution_count": null,
   "id": "62d200ba-969f-4144-a7c4-60ca83591beb",
   "metadata": {},
   "outputs": [],
   "source": [
    "df = df[~(df.from_tokens == '')]"
   ]
  },
  {
   "cell_type": "code",
   "execution_count": null,
   "id": "a4f129e6-fbf2-418e-b211-d28fd27db1f0",
   "metadata": {},
   "outputs": [],
   "source": [
    "df.shape"
   ]
  },
  {
   "cell_type": "code",
   "execution_count": null,
   "id": "6667499e-6432-415f-9f0d-f9187b9d863c",
   "metadata": {},
   "outputs": [],
   "source": [
    "X = df.from_tokens.values\n",
    "y = df.user_suggestion.values"
   ]
  },
  {
   "cell_type": "code",
   "execution_count": null,
   "id": "da516496-e5a6-4945-81ea-4263bdf07b6c",
   "metadata": {},
   "outputs": [],
   "source": [
    "\n",
    "X_train, X_test, y_train, y_test = train_test_split(X, y, test_size=0.10, stratify=y, random_state=42)"
   ]
  },
  {
   "cell_type": "code",
   "execution_count": null,
   "id": "914a9949-607b-4037-87ac-6db89db9fa93",
   "metadata": {},
   "outputs": [],
   "source": [
    "model = tf.keras.Sequential([\n",
    "    encoder,\n",
    "    tf.keras.layers.Embedding(\n",
    "        input_dim=encoder.vocabulary_size(),\n",
    "        output_dim=64,\n",
    "        # Use masking to handle the variable sequence lengths\n",
    "        mask_zero=True),\n",
    "    tf.keras.layers.Bidirectional(tf.keras.layers.LSTM(64, return_sequences=True)),\n",
    "    tf.keras.layers.Dropout(0.5),\n",
    "    tf.keras.layers.Bidirectional(tf.keras.layers.GRU(64)),\n",
    "    tf.keras.layers.Dropout(0.4),\n",
    "    tf.keras.layers.Dense(128, activation='relu'),\n",
    "    tf.keras.layers.Dropout(0.5),\n",
    "    tf.keras.layers.Dense(64, activation='relu'),\n",
    "    tf.keras.layers.Dropout(0.5),\n",
    "    tf.keras.layers.Dense(64, activation='relu'),\n",
    "    tf.keras.layers.Dropout(0.2),\n",
    "    tf.keras.layers.Dense(1, activation='sigmoid')\n",
    "])\n",
    "\n",
    "model.compile(loss=tf.keras.losses.BinaryCrossentropy(from_logits=False),\n",
    "              optimizer=tf.keras.optimizers.Adam(1e-3),\n",
    "              metrics=['accuracy'])"
   ]
  },
  {
   "cell_type": "code",
   "execution_count": null,
   "id": "d6af077e-ac01-4df6-8eb5-b0915e569d5c",
   "metadata": {},
   "outputs": [],
   "source": [
    "callback_stop = tf.keras.callbacks.EarlyStopping(monitor='accuracy', patience=5, min_delta=0.005)\n",
    "\n",
    "learning_drop = tf.keras.callbacks.ReduceLROnPlateau(\n",
    "    monitor=\"val_accuracy\",\n",
    "    factor=0.80,\n",
    "    patience=2,\n",
    "    verbose=0,\n",
    "    mode=\"auto\",\n",
    "    min_delta=0.01,\n",
    "    cooldown=0,\n",
    "    min_lr=0,\n",
    ")\n",
    "\n",
    "# model_dir = \"models/\" + datetime.datetime.now().strftime(\"%Y%m%d-%H%M%S\") + '.h5'\n",
    "\n",
    "# checkpoint_cb = tf.keras.callbacks.ModelCheckpoint(\n",
    "#     model_dir, monitor='val_loss', verbose=0, save_best_only=True,\n",
    "#     save_weights_only=False, mode='auto', save_freq='epoch',\n",
    "#     options=None\n",
    "# )\n"
   ]
  },
  {
   "cell_type": "code",
   "execution_count": null,
   "id": "be73e879-f41d-4ac3-b877-032384430aa1",
   "metadata": {},
   "outputs": [],
   "source": [
    "# weights = dict(1/df.outcome.value_counts())\n",
    "model.fit(X_train, y_train, validation_data=(X_test, y_test), epochs=2, \n",
    "          callbacks=[learning_drop, callback_stop])"
   ]
  },
  {
   "cell_type": "code",
   "execution_count": null,
   "id": "b6f3f44b-f2df-41ec-adbf-cd0a17202f5e",
   "metadata": {},
   "outputs": [],
   "source": [
    "y_pred = (model.predict(X_test) > 0.5)\n",
    "y_pred = np.squeeze(y_pred)"
   ]
  },
  {
   "cell_type": "code",
   "execution_count": null,
   "id": "1b4bb99a-c8dc-4f84-951f-597fc0a6ae3f",
   "metadata": {},
   "outputs": [],
   "source": [
    "ConfusionMatrixDisplay.from_predictions(y_test, y_pred)"
   ]
  },
  {
   "cell_type": "code",
   "execution_count": null,
   "id": "3ec412f4-5a87-4f28-9b33-43f888cbbe83",
   "metadata": {},
   "outputs": [],
   "source": []
  }
 ],
 "metadata": {
  "kernelspec": {
   "display_name": "Python 3 (ipykernel)",
   "language": "python",
   "name": "python3"
  },
  "language_info": {
   "codemirror_mode": {
    "name": "ipython",
    "version": 3
   },
   "file_extension": ".py",
   "mimetype": "text/x-python",
   "name": "python",
   "nbconvert_exporter": "python",
   "pygments_lexer": "ipython3",
   "version": "3.9.7"
  }
 },
 "nbformat": 4,
 "nbformat_minor": 5
}
